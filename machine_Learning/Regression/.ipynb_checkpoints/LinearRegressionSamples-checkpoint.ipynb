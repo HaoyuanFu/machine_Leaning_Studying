{
 "cells": [
  {
   "cell_type": "code",
   "execution_count": 5,
   "metadata": {},
   "outputs": [],
   "source": [
    "import numpy as np\n",
    "import matplotlib.pyplot as plt\n",
    "\n",
    "\n",
    "class LinearRegression():\n",
    "    def __init__(self):\n",
    "        self.coef_ = 0\n",
    "        self.intercept_ = 0\n",
    "        self.X = None\n",
    "        self.y = None\n",
    "        self.y_pred = None\n",
    "        self.sse = 0\n",
    "        self.mse = 0\n",
    "        self.rmse = 0\n",
    "        self.mae = 0\n",
    "        self.ssr = 0\n",
    "        self.sst = 0\n",
    "        self.r2 = 0\n",
    "\n",
    "    def input_data(self, x, y):\n",
    "        self.X = np.array(x)\n",
    "        self.y = np.array(y)\n",
    "\n",
    "    def solve(self):\n",
    "        x = self.X\n",
    "        y = self.y\n",
    "        self.coef_ = sum((x - x.mean()) * (y - y.mean())) / sum((x - x.mean())**2)\n",
    "        self.intercept_ = y.mean() - self.coef_ * x.mean()\n",
    "        self.y_pred = np.array(x * self.coef_ + self.intercept_)\n",
    "\n",
    "    def predict(self, x_new):\n",
    "        return self.coef_ * x_new + self.intercept_\n",
    "\n",
    "    def plot(self):\n",
    "        plt.figure(figsize=(10, 6))\n",
    "        plt.scatter(self.X, self.y, marker='+', color='green')\n",
    "        plt.plot(self.X, self.y_pred, '-r')\n",
    "        plt.text(1, 7.9, 'a:  {0:.2f}'.format(self.coef_), weight='bold', color='black', fontsize=16)\n",
    "        plt.text(1, 7.7, 'b:  {0:.2f}'.format(self.intercept_), weight='bold', color='black', fontsize=16)\n",
    "        plt.text(1, 7.5, 'R2: {0:.2f}'.format(self.r2), weight='bold', color='black', fontsize=16)\n",
    "        plt.text(1, 7.3, 'MSE:  {0:.2f}'.format(self.mse), weight='bold', color='black', fontsize=16)\n",
    "        plt.show()\n",
    "\n",
    "    def evaluate(self):\n",
    "        self.sse = sum((self.y - self.y_pred) ** 2)\n",
    "        self.mse = sum((self.y - self.y_pred) ** 2) / len(self.X)\n",
    "        self.rmse = np.sqrt(self.mse)\n",
    "        self.mae = np.mean(np.abs(self.y - self.y_pred))\n",
    "\n",
    "\n"
   ]
  },
  {
   "cell_type": "code",
   "execution_count": 9,
   "metadata": {},
   "outputs": [
    {
     "name": "stdout",
     "output_type": "stream",
     "text": [
      "当X = 10时，y = 9.5\n"
     ]
    },
    {
     "data": {
      "image/png": "[encoded data removed]",
      "text/plain": [
       "<Figure size 720x432 with 1 Axes>"
      ]
     },
     "metadata": {
      "needs_background": "light"
     },
     "output_type": "display_data"
    }
   ],
   "source": [
    "# 训练数据\n",
    "X = np.array([1, 3, 5, 7])\n",
    "y = np.array([5, 6, 7, 8])\n",
    "\n",
    "# 创建模型\n",
    "lr = LinearRegression()\n",
    "lr.input_data(X, y)\n",
    "\n",
    "# 求解\n",
    "lr.solve()\n",
    "lr.evaluate()\n",
    "\n",
    "# 预测\n",
    "x = 10\n",
    "print('当X = 10时，y =', lr.predict(x))\n",
    "\n",
    "# 画图\n",
    "lr.plot()"
   ]
  },
  {
   "cell_type": "code",
   "execution_count": 17,
   "metadata": {},
   "outputs": [
    {
     "name": "stdout",
     "output_type": "stream",
     "text": [
      "coefficients:  [938.23786125]\n",
      "intercept:  152.91886182616167\n",
      "Mean squared error:  2548.0723987259703\n",
      "Variance score:  0.47257544798227136\n"
     ]
    },
    {
     "data": {
      "image/png": "[encoded data removed]",
      "text/plain": [
       "<Figure size 432x288 with 1 Axes>"
      ]
     },
     "metadata": {
      "needs_background": "light"
     },
     "output_type": "display_data"
    }
   ],
   "source": [
    "import matplotlib.pyplot as plt\n",
    "import numpy as np\n",
    "from sklearn import datasets, linear_model\n",
    "#from sklearn.cross_validation import train_test_split\n",
    "from sklearn.model_selection import train_test_split\n",
    "from sklearn.metrics import mean_squared_error, r2_score\n",
    "\n",
    "# 导入糖尿病数据\n",
    "diabetes = datasets.load_diabetes()\n",
    "\n",
    "# 仅使用第三个特征\n",
    "# sklearn接受的输入中，特征集是2维数据，\n",
    "# 所以我们要增加一个维度，将长度为n的一维向量，变成n*1的二维向量\n",
    "X = diabetes.data.copy()[:, np.newaxis, 2]\n",
    "y = diabetes.target.copy()\n",
    "\n",
    "# 将数据分为训练集和测试集\n",
    "X_train = X[:-20]\n",
    "X_test = X[-20:]\n",
    "y_train = diabetes.target[:-20]\n",
    "y_test = diabetes.target[-20:]\n",
    "# sklearn提供了分割训练集与测试集的方法，不过这次为了让大家得到一致的结果，\n",
    "# 我们直接取最后20个样本作为测试集（我们也可以设置train_test_split方法中\n",
    "# 的random_state参数，用来保证每次实验的训练集和测试集是一致的。）\n",
    "# X_train, X_test, y_train, y_test = train_test_split(X, y, test_size=0.05)\n",
    "\n",
    "# 创建线性回归模型对象\n",
    "reg = linear_model.LinearRegression(fit_intercept=True)\n",
    "\n",
    "# 训练模型\n",
    "reg.fit(X_train, y_train)\n",
    "\n",
    "# 预测测试数据\n",
    "y_pred = reg.predict(X_test)\n",
    "\n",
    "# 打印系数\n",
    "print('coefficients: ', reg.coef_)\n",
    "print('intercept: ', reg.intercept_)\n",
    "\n",
    "# 打印均方误差\n",
    "print('Mean squared error: ', mean_squared_error(y_test, y_pred))\n",
    "\n",
    "# 打印R2分数\n",
    "print('Variance score: ', r2_score(y_test, y_pred))\n",
    "\n",
    "# 画图\n",
    "plt.scatter(X_test, y_test, color='green')\n",
    "plt.plot(X_test, y_pred, '-r', linewidth=3)\n",
    "plt.show()"
   ]
  },
  {
   "cell_type": "code",
   "execution_count": null,
   "metadata": {},
   "outputs": [],
   "source": []
  },
  {
   "cell_type": "code",
   "execution_count": null,
   "metadata": {},
   "outputs": [],
   "source": []
  }
 ],
 "metadata": {
  "kernelspec": {
   "display_name": "Python 3",
   "language": "python",
   "name": "python3"
  },
  "language_info": {
   "codemirror_mode": {
    "name": "ipython",
    "version": 3
   },
   "file_extension": ".py",
   "mimetype": "text/x-python",
   "name": "python",
   "nbconvert_exporter": "python",
   "pygments_lexer": "ipython3",
   "version": "3.6.8"
  }
 },
 "nbformat": 4,
 "nbformat_minor": 2
}
